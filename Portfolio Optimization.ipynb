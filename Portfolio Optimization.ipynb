{
 "cells": [
  {
   "cell_type": "markdown",
   "metadata": {},
   "source": [
    "## Theory"
   ]
  },
  {
   "cell_type": "markdown",
   "metadata": {},
   "source": [
    "The task to optimize for the risk and return, hence for the allocation for $w$\\\n",
    "$$\\sigma_\\Pi = \\sqrt{w^*`\\Sigma w^*}$$ \n",
    "$$μ_Π = w^*` μ $$\n",
    "$$ \\underset{w}{\\operatorname{argmin}} \\frac{1}{2} w' \\Sigma w $$\n",
    "for target returns $m$\\\n",
    "$$m =  \\ r + (\\mu - r I)'w$$\n",
    "\\\n",
    "with the constraint that the net of allocations are invested (borrowed) in the risk-free $r$ assets,\n",
    "boils dow to formulating the Lagrangian function, and its partial derivatives,\\\n",
    "$ L(w,\\gamma) = \\frac{1}{2} w' \\Sigma w  + \\gamma \\ \\big( (m - r) - (\\mu - rI)' w \\big) + \\lambda (1 - w'I) $\\\n",
    "\\\n",
    "and solving for\\\n",
    "$\\frac{∂L(w,γ)}{∂w} = 0$\\\n",
    "\\\n",
    "ie.\n",
    "\n",
    "$ \\frac{\\partial L}{\\partial w} = \\Sigma w- \\gamma (\\mu -rI) - \\lambda I= 0 $\n",
    "\n",
    "$ \\frac{\\partial L}{\\partial \\gamma} = (m - r) - (\\mu - rI)' w = 0 $\n",
    "\n",
    "$ \\frac{\\partial^2 L}{\\partial \\lambda} = 1 - w'I = 0\\ $\n",
    "\n",
    "$ \\frac{\\partial^2 L}{\\partial w^2} = \\Sigma \\ and \\ \\Sigma > 0 \\ \\implies L\\ has\\ minimum $\n",
    "\n",
    "$\\dots$\n",
    "\n",
    "$ w = \\Sigma^{-1} \\Big( \\gamma (\\mu - rI) + \\lambda I \\Big) $\n",
    "\n",
    "$ w = \\frac{(m - r)}{(\\mu -rI)'} $\n",
    "\n",
    "$ w'I = 1 \\ (budget~equation) $\n",
    "\n",
    "$ \\dots $\n",
    "\n",
    "$\n",
    "\\cases{\n",
    "C \\gamma + B \\lambda = m - r \\cr\n",
    "B \\gamma + A \\lambda = 1 \n",
    "} \n",
    "$\n",
    "\n",
    "$ where $\n",
    "\n",
    "$ A = I' \\Sigma^{-1} I $\n",
    "\n",
    "$ B = I' \\Sigma^{-1} (\\mu - rI) = (\\mu - rI)' \\Sigma^{-1} I $\n",
    "\n",
    "$ C = (\\mu - rI)' \\Sigma^{-1} (\\mu - rI) $\n",
    "\n",
    "$ \\dots $\n",
    "\n",
    "$ \\gamma = \\frac {A (m - r) - B}{A C - B^2} $\n",
    "\n",
    "$ \\lambda = \\frac {C - B (m - r)}{A C - B^2} $\n",
    "\n",
    "\n",
    "$ w(m) = \\Sigma^{-1} \\Big( \\gamma(m) \\ (\\mu - r I) + \\lambda(m) \\ I \\Big) $\n"
   ]
  },
  {
   "cell_type": "markdown",
   "metadata": {},
   "source": [
    "## Portfolio and Correlations"
   ]
  },
  {
   "cell_type": "code",
   "execution_count": 1,
   "metadata": {},
   "outputs": [
    {
     "data": {
      "text/html": [
       "<div>\n",
       "<style scoped>\n",
       "    .dataframe tbody tr th:only-of-type {\n",
       "        vertical-align: middle;\n",
       "    }\n",
       "\n",
       "    .dataframe tbody tr th {\n",
       "        vertical-align: top;\n",
       "    }\n",
       "\n",
       "    .dataframe thead th {\n",
       "        text-align: right;\n",
       "    }\n",
       "</style>\n",
       "<table border=\"1\" class=\"dataframe\">\n",
       "  <thead>\n",
       "    <tr style=\"text-align: right;\">\n",
       "      <th></th>\n",
       "      <th>μ</th>\n",
       "      <th>σ</th>\n",
       "    </tr>\n",
       "    <tr>\n",
       "      <th>Assets</th>\n",
       "      <th></th>\n",
       "      <th></th>\n",
       "    </tr>\n",
       "  </thead>\n",
       "  <tbody>\n",
       "    <tr>\n",
       "      <th>A</th>\n",
       "      <td>0.050</td>\n",
       "      <td>0.1</td>\n",
       "    </tr>\n",
       "    <tr>\n",
       "      <th>B</th>\n",
       "      <td>0.075</td>\n",
       "      <td>0.1</td>\n",
       "    </tr>\n",
       "    <tr>\n",
       "      <th>C</th>\n",
       "      <td>0.100</td>\n",
       "      <td>0.3</td>\n",
       "    </tr>\n",
       "    <tr>\n",
       "      <th>D</th>\n",
       "      <td>0.125</td>\n",
       "      <td>0.7</td>\n",
       "    </tr>\n",
       "  </tbody>\n",
       "</table>\n",
       "</div>"
      ],
      "text/plain": [
       "            μ    σ\n",
       "Assets            \n",
       "A       0.050  0.1\n",
       "B       0.075  0.1\n",
       "C       0.100  0.3\n",
       "D       0.125  0.7"
      ]
     },
     "execution_count": 1,
     "metadata": {},
     "output_type": "execute_result"
    }
   ],
   "source": [
    "portfolio_str = \"\"\"\n",
    "Assets μ σ\n",
    "A 0.05 0.10\n",
    "B 0.075 0.10\n",
    "C 0.10 0.30\n",
    "D 0.125 0.70\n",
    "\"\"\"\n",
    "\n",
    "from io import StringIO\n",
    "portfolio_df = pd.read_csv(StringIO(portfolio_str),sep=' ',index_col=['Assets'])\n",
    "portfolio_df"
   ]
  },
  {
   "cell_type": "code",
   "execution_count": 2,
   "metadata": {},
   "outputs": [
    {
     "data": {
      "text/plain": [
       "matrix([[1. , 0.2, 0.3, 0.2],\n",
       "        [0.2, 1. , 0.5, 0.4],\n",
       "        [0.3, 0.5, 1. , 0.6],\n",
       "        [0.2, 0.4, 0.6, 1. ]])"
      ]
     },
     "execution_count": 2,
     "metadata": {},
     "output_type": "execute_result"
    }
   ],
   "source": [
    "Corr = np.matrix([\n",
    "[1.0, 0.2, 0.3, 0.2],\n",
    "[0.2, 1.0, 0.5, 0.4],\n",
    "[0.3, 0.5, 1.0, 0.6],\n",
    "[0.2, 0.4, 0.6, 1.0]\n",
    "])\n",
    "Corr"
   ]
  },
  {
   "cell_type": "markdown",
   "metadata": {},
   "source": [
    "## Algebraic Computaions"
   ]
  },
  {
   "cell_type": "code",
   "execution_count": 3,
   "metadata": {},
   "outputs": [],
   "source": [
    "# computation parameters\n",
    "r = 0.01 # risk-free rate = 1%\n",
    "μ = np.matrix( portfolio_df['μ'] ).T \n",
    "I = np.matrix( np.ones(len(μ)) ).T\n",
    "rI = np.matrix( r*np.ones(len(μ)) ).T\n",
    "diag_σ = np.diag( portfolio_df['σ'] )\n",
    "Σ = diag_σ * Corr * diag_σ\n",
    "A = I.T * Σ**-1 * I\n",
    "B = I.T * Σ**-1 * (μ - rI)\n",
    "C = (μ - rI).T * Σ**-1 * (μ - rI)"
   ]
  },
  {
   "cell_type": "code",
   "execution_count": 4,
   "metadata": {},
   "outputs": [
    {
     "data": {
      "image/png": "[encoded data removed]",
      "text/plain": [
       "<Figure size 432x288 with 2 Axes>"
      ]
     },
     "metadata": {
      "needs_background": "light"
     },
     "output_type": "display_data"
    }
   ],
   "source": [
    "# plot \n",
    "def plot_efficient_frontier(m_ary, marker='o',annotations=False):\n",
    "    μ_ary = []\n",
    "    σ_ary = []\n",
    "    for m in m_ary:\n",
    "        γ = (A*(m-r) - B) / (A*C - B**2)\n",
    "        λ = (C - B*(m-r)) / (A*C - B**2)\n",
    "        γ = γ.item()\n",
    "        λ = λ.item()    \n",
    "        w = Σ**-1 * (γ*(μ - rI) + λ*I)\n",
    "        σ_Π = np.sqrt( w.T * Σ * w )\n",
    "        μ_Π = w.T * μ\n",
    "        σ_ary.append(σ_Π)\n",
    "        μ_ary.append(μ_Π)\n",
    "    # do type conversin for plotting\n",
    "    μ_ary = np.array([ _.item() for _ in μ_ary])\n",
    "    σ_ary = np.array([ _.item() for _ in σ_ary])\n",
    "    # plot the efficient frontier\n",
    "    marker_size = 600 if marker == '*' else 20\n",
    "    plt.scatter(σ_ary, μ_ary, c=(μ_ary -r)/σ_ary, marker=marker, s=marker_size , edgecolors='grey')\n",
    "    if annotations:\n",
    "        for m,sig,mi in zip(m_ary,σ_ary,μ_ary):\n",
    "            plt.annotate('%.1f%%' % (100*m),\n",
    "                        xy=(sig,mi), xycoords='data',\n",
    "                        xytext=(-5, 20), textcoords='offset points',\n",
    "                        arrowprops=dict(arrowstyle=\"->\"),\n",
    "                        horizontalalignment='right', verticalalignment='bottom')\n",
    "    \n",
    "    return\n",
    "    \n",
    "# plot efficient frontier\n",
    "m_ary = np.linspace(.01,.15,30)    \n",
    "plot_efficient_frontier(m_ary)    \n",
    "\n",
    "# plot the target returns on it\n",
    "m_ary = [0.05,0.075,0.1,0.125] # target returns\n",
    "plot_efficient_frontier(m_ary,marker='*',annotations=True)\n",
    "\n",
    "# add grid and labels\n",
    "plt.grid(True)    \n",
    "plt.xlabel('$Expected\\ σ$')\n",
    "plt.ylabel('$Expected\\ μ$')\n",
    "plt.colorbar(label='$Sharpe\\ Ratio$')\n",
    "plt.title(\"Efficient Frontier and Target Returns\");"
   ]
  },
  {
   "cell_type": "markdown",
   "metadata": {},
   "source": [
    "## Numerical Computations"
   ]
  },
  {
   "cell_type": "code",
   "execution_count": 5,
   "metadata": {},
   "outputs": [
    {
     "data": {
      "image/png": "[encoded data removed]",
      "text/plain": [
       "<Figure size 432x288 with 2 Axes>"
      ]
     },
     "metadata": {
      "needs_background": "light"
     },
     "output_type": "display_data"
    }
   ],
   "source": [
    "# import optimization package\n",
    "import scipy.optimize as spo\n",
    "\n",
    "# def calc_μ_σ_SR()\n",
    "def calc_μ_σ_SR(w):\n",
    "    \"\"\"Calculate μ, σ, and SR for given weights w, returns μ, and cov matrix Σ\"\"\"\n",
    "    global μ, Σ\n",
    "    w = np.matrix(w).T\n",
    "    σ_Π = np.sqrt( w.T * Σ * w )\n",
    "    μ_Π = w.T * μ\n",
    "    return {'μ':μ_Π, 'σ':σ_Π}\n",
    "\n",
    "# initially, set equal weights for all assets\n",
    "num_w = len(portfolio_df)\n",
    "w = np.matrix( [1 / num_w] * num_w ).T\n",
    "σ_ary = [] # list to collect volatilities\n",
    "μ_ary = []\n",
    "m_ary = np.linspace(.01,.15, 30)\n",
    "\n",
    "for m in m_ary: # for each target return\n",
    "    # set contstaints\n",
    "    constraints = (\n",
    "        # Lagrangian term for the target return\n",
    "        {'type':'eq','fun':lambda w: m - r - ((μ - rI).T * np.matrix(w).T).item() },\n",
    "        # budget eq\n",
    "        {'type':'eq','fun':lambda w: np.sum(w) - 1}\n",
    "    )\n",
    "    # set boundaries, ie weights for each assets can be between -1 and 1\n",
    "    bounds = tuple((-1, 1) for _ in w) \n",
    "    # run minimization\n",
    "    min_res = spo.minimize(lambda w: calc_μ_σ_SR(w)['σ'], \n",
    "                           w, \n",
    "                           method='SLSQP',\n",
    "                           bounds=bounds, \n",
    "                           constraints=constraints)\n",
    "    # collect minimized func results, ie volatilities\n",
    "    σ_ary.append(min_res['fun'])\n",
    "    μ_ary.append(calc_μ_σ_SR(min_res['x'])['μ'].item()) # min_res['x'] gives weights\n",
    "    \n",
    "    \n",
    "# do type conversin for plotting\n",
    "μ_ary = np.array(μ_ary)\n",
    "σ_ary = np.array(σ_ary)\n",
    "\n",
    "# plot the efficient frontier\n",
    "plt.scatter(σ_ary,μ_ary,c=(μ_ary-r)/σ_ary, marker='o', edgecolors='grey')\n",
    "plt.grid(True)\n",
    "plt.xlabel('Expected σ')\n",
    "plt.ylabel('Expected μ')\n",
    "plt.colorbar(label='Sharpe Ratio')\n",
    "plt.title(\"Efficient Frontier\");\n",
    "\n",
    "# show the portfolio with GMV (Globaly Minimal Variance)\n",
    "w_GMV = (Σ**-1 * I) / (I.T * Σ**-1 * I)\n",
    "σ_GMV = np.sqrt( w_GMV.T * Σ * w_GMV )\n",
    "μ_GMV = w_GMV.T * μ\n",
    "σ_GMV, μ_GMV = σ_GMV.item(), μ_GMV.item()\n",
    "plt.scatter(σ_GMV, μ_GMV, c='darkgreen', marker='*', s=600, edgecolors='grey');\n",
    "plt.annotate('GMV at ($σ_t$=%.2f,$μ_t$=%.1f%%)' % (σ_GMV, 100*μ_GMV),\n",
    "                        xy=(σ_GMV, μ_GMV), xycoords='data',\n",
    "                        xytext=(120, -5), textcoords='offset points',\n",
    "                        arrowprops=dict(arrowstyle=\"->\"),\n",
    "                        horizontalalignment='center', verticalalignment='center');\n",
    "\n",
    "# show the tangency portfolio\n",
    "w_t = (Σ**-1 * (μ-rI)) / (I.T * Σ**-1 * (μ-rI))\n",
    "σ_t = np.sqrt( w_t.T * Σ * w_t )\n",
    "μ_t = w_t.T * μ\n",
    "σ_t, μ_t = σ_t.item(), μ_t.item()\n",
    "plt.scatter(σ_t, μ_t, c='darkorange', marker='*', s=500, edgecolors='grey');\n",
    "plt.annotate('Tangency Portfolio at ($σ_t$=%.2f,$μ_t$=%.1f%%)' % (σ_t, 100*μ_t),\n",
    "                        xy=(σ_t, μ_t), xycoords='data',\n",
    "                        xytext=(120, 120), textcoords='offset points',\n",
    "                        arrowprops=dict(arrowstyle=\"->\"),\n",
    "                        horizontalalignment='center', verticalalignment='top');"
   ]
  },
  {
   "cell_type": "markdown",
   "metadata": {},
   "source": [
    "###### THE END"
   ]
  }
 ],
 "metadata": {
  "kernelspec": {
   "display_name": "Python 3",
   "language": "python",
   "name": "python3"
  },
  "language_info": {
   "codemirror_mode": {
    "name": "ipython",
    "version": 3
   },
   "file_extension": ".py",
   "mimetype": "text/x-python",
   "name": "python",
   "nbconvert_exporter": "python",
   "pygments_lexer": "ipython3",
   "version": "3.7.6"
  }
 },
 "nbformat": 4,
 "nbformat_minor": 4
}
