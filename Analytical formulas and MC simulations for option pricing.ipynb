{
 "cells": [
  {
   "cell_type": "markdown",
   "metadata": {},
   "source": [
    "## Theory"
   ]
  },
  {
   "cell_type": "markdown",
   "metadata": {},
   "source": [
    "The **Black-Scholes-Merton formula** (analytical) for pricing european options is\n",
    "\n",
    "> $Call = S\\ N1 - K\\ e^{-rT}\\ N2 $<br>\n",
    "\n",
    "where:<br>\n",
    "$d1 = \\frac{log \\frac{S}{K}\\ \\ +\\ \\ (r + \\frac{σ^2}{2})\\ T}{σ \\sqrt T }$<br>\n",
    "$d2 = d1 - σ \\sqrt{T}$<br>\n",
    "$N1 = norm.cdf(d1,0,1)$<br>\n",
    "$N2 = norm.cdf(d2,0,1)$<br>"
   ]
  },
  {
   "cell_type": "markdown",
   "metadata": {},
   "source": [
    "For the **Monte Carlo simulations**, we can use the Euler's discretization of Black-Scholes-Merton SDE, \n",
    "i.e. lognormal stock price evolving according to the following eq.\n",
    "\n",
    "> $S_{t+1} = S_t\\ exp\\big( (r - \\frac{σ^2}{2}) dt \\ +  \\ σ \\sqrt{dt}\\ z\\big)$\n",
    "\n",
    "where:<br>\n",
    "the standard error, $\\epsilon = \\frac {\\sigma_N} {\\sqrt{N}}$<br>\n",
    "\n",
    "95% confidence interval for the option price,\n",
    "$\\mu - \\frac {1.96\\ \\sigma_N}{\\sqrt N} < P < \\mu + \\frac {1.96\\ \\sigma_N}{\\sqrt N}$"
   ]
  },
  {
   "cell_type": "markdown",
   "metadata": {},
   "source": [
    "In case of the **Asian options**, we can use analytic solutions for geometric options, but for the arithmetic asians, only approximations exist.\n",
    "In the latter case, we can always resort to ***Monte Carlo simulations***. \n",
    "\n",
    "The Asians' payoffs are:\n",
    "\n",
    "> $Fixed\\ Strike\\ Call = e^{-rT} Max(\\bar S - K, 0)$<br>\n",
    "\n",
    "> $Floating\\ Strike\\ Call = e^{-rT} Max(S_T - \\bar S, 0)$<br>\n",
    "\n",
    "where:<br>\n",
    "$arithmetic\\ mean,\\ \\bar S_A(0,T) = \\frac{1}{N} \\sum \\limits_{i=1}^{N} S_{t_i}\\ or\\ \\frac{1}{T}\\int\\limits_o^T S(t)\\ dt\\ for\\ cont.$<br>\n",
    "$geometric\\ mean,\\ \\bar S_G(0,T) = exp\\Bigg( \\frac{1}{N} \\sum\\limits_{i=1}^{T} log S_{t_i} \\Bigg)\\ or\\ exp\\Bigg( \\frac{1}{T}\\int\\limits_o^T log S(t)\\ dt\\ \\Bigg)\\ for\\ cont.$<br>"
   ]
  },
  {
   "cell_type": "markdown",
   "metadata": {},
   "source": [
    "The Asian fixed strike geometric can be computed with the ***Kemna and Vorst solution***:\n",
    "\n",
    "> $C_{(fixed\\ strike\\ geom)} = S e^{ (b - r) T} N1  -  K  e^{-r T} N2$\n",
    "\n",
    "where<br>\n",
    "$σ_a = \\frac{σ}{\\sqrt(3)}$<br>\n",
    "$b = 0.5 * (r - \\frac{σ^2}{6})$<br>\n",
    "$d1 = \\frac{log(\\frac{S}{K}) + (b + 0.5 σ_a^2) T}{σ_a \\sqrt(T)}$<br>\n",
    "$d2 = d1 - σ_a \\sqrt T$<br>\n",
    "$N1 = norm.cdf(d1,0,1)$<br>\n",
    "$N2 = norm.cdf(d2,0,1)$<br>"
   ]
  },
  {
   "cell_type": "markdown",
   "metadata": {},
   "source": [
    "The Asian fixed strike arithmetic can be computed with the ***Levy approximation***.\n",
    "\n",
    "> $C_{Levy} = S_Z N1 - K_Z e^{-rT} N2$\n",
    "\n",
    "where<br>\n",
    "$M1 = 2 S^2$,\n",
    "$M2 = r + σ^2$,\n",
    "$M3 = (2 r + σ^2)T$,\n",
    "$M4 = 2 r + σ^2$,\n",
    "$M5 = r T$,\n",
    "$M = \\frac{M1}{M2}\\big[\\frac{e^{M3} - 1}{M4} - \\frac{e^{M5} - 1}{r}\\big]$<br>\n",
    "$L = \\frac{M}{T^2}$<br>\n",
    "$S_Z = \\frac {S}{r*T}\\big(1 - e^{-rT}\\big)$<br>\n",
    "$K_Z = K$<br>\n",
    "$ν = log(L) - 2\\big(r T + log(S_Z)\\big)$<br>\n",
    "$d1 = \\frac{1}{\\sqrt ν}\\big[0.5 log(L) - log(K_Z)\\big]$<br>\n",
    "$d2 = d1 - \\sqrt ν$<br>\n",
    "$N1 = norm.cdf(d1,0,1)$<br>\n",
    "$N2 = norm.cdf(d2,0,1)$<br>\n",
    "    "
   ]
  },
  {
   "cell_type": "markdown",
   "metadata": {},
   "source": [
    "The ***Asian floating strike geometric***.\n",
    "\n",
    "> $C_{(floating\\ strike\\ geom)} = S N1  -  S e^{\\big( \\frac{-(r\\ +\\ 0.5 σ^2)\\ T}{2}  + \\frac{σ^2\\ T}{6} \\big)} N2$\n",
    "\n",
    "where<br>\n",
    "$d1 = \\frac {(r\\ +\\ 0.5 σ^2)\\ T^2/2} {σ \\sqrt {T^3/3}}$<br>\n",
    "$d2 = d1 - σ \\sqrt {T^3/3}$<br>\n",
    "$N1 = norm.cdf(d1,0,1)$<br>\n",
    "$N2 = norm.cdf(d2,0,1)$<br>"
   ]
  },
  {
   "cell_type": "markdown",
   "metadata": {},
   "source": [
    "The ***Asian floating strike arithmetic***, again, can be computed with the Monte Carlo simulation with the following update rules,\n",
    "\n",
    "Geometric mean,\n",
    "$\n",
    "G_i = \\frac{i-1}{i} G_{i-1} + \\frac {1}{i} log S_i\n",
    "$\n",
    "\n",
    "Arrithmetic mean,\n",
    "$\n",
    "A_i = \\frac{i-1}{i} A_{i-1} + \\frac {1}{i} S_i\n",
    "$"
   ]
  },
  {
   "cell_type": "markdown",
   "metadata": {},
   "source": [
    "*Relationships for verification:* \n",
    "- *the Asian options are cheaper than plain vanilla options $\\because$ the Asian option volatilities are lower than the others due to averaging*\n",
    "- $C_{arith}^{fixed} \\geq C_{geom}^{fixed}\\ and\\ C_{arith}^{float} \\leq C_{geom}^{float} \\because\\ \\bar A_{Geometric} \\leq \\bar A_{Arithmetic}\\ $"
   ]
  },
  {
   "cell_type": "markdown",
   "metadata": {},
   "source": [
    "The **Volatility** in the BSM models used for pricing options is assumed to be constant over time. \n",
    "However, in real financial markets, volatility changes dramatically from time to time. \n",
    "Therefore, to be closer to reality, we can also apply stochastic volatility to MC simulations.\n",
    "\n",
    "The volatility can be described to follow a stochastic process too, ie<br>\n",
    "the underlying asset, $dS = r S dt + \\sigma S dz$<br>\n",
    "the volatility, $d\\sigma^2 = \\mu \\sigma^2 dt + \\xi \\sigma^2 dw$ (Hull-White model)<br>\n",
    "where, $\\xi$ is assumed constant, dz and dw have a correlation $\\rho$ which in deriving option prices can be effectively assumed to be $\\rho = 0$.\n",
    "\n",
    "One way to calculate the option price based on stochastic volatility is to simulate the volatility in the same way as for the stock price. The stochastic process for volatility becomes:\n",
    "> $\\sigma^2_{t+1} = \\sigma^2_t\\ exp\\big( (\\mu - \\frac{\\xi^2}{2})\\ dt \\ +  \\ \\xi \\sqrt{dt}\\ z\\big)$\n",
    "\n",
    "for the mean-reverting process, $\\mu = \\alpha\\ (\\sigma^{lt} - \\sigma)$, $\\alpha$ - speed of the mean-reversion, $\\sigma^{lt}$  - long-term volatility, $\\xi$ - volatility of volatility.\n"
   ]
  },
  {
   "cell_type": "markdown",
   "metadata": {},
   "source": [
    "## Comparison of the values obtained by BSM formula and MC simulation based on the Euler scheme"
   ]
  },
  {
   "cell_type": "code",
   "execution_count": 11,
   "metadata": {},
   "outputs": [],
   "source": [
    "import numpy as np\n",
    "from scipy.stats import norm\n",
    "\n",
    "# common parameters to compute various option prices\n",
    "S0 = 100 # current price\n",
    "K = 100 # strike\n",
    "r = 0.05 # risk free rate %\n",
    "T = 1 # a fraction of a year\n",
    "σ = 0.2 # volatility %\n",
    "Ts = 260 # num of time steps\n",
    "N = 10000 # num of paths"
   ]
  },
  {
   "cell_type": "code",
   "execution_count": 14,
   "metadata": {},
   "outputs": [],
   "source": [
    "#\n",
    "# Euro call options\n",
    "#\n",
    "\n",
    "def bsm_euro_call_value(S0, K, T, r, σ):\n",
    "    \"\"\"Prices the European call option with analytical BSM formula.\n",
    "    \n",
    "    Parameters\n",
    "        S0: initial stock/index level\n",
    "        K:  strike price\n",
    "        T:  maturity date (in year fractions)\n",
    "        r:  constant risk-free short rate\n",
    "        σ:  volatility factor in diffusion term\n",
    "\n",
    "    Returns\n",
    "        Call Value: present value of the European call option\n",
    "            \n",
    "    \"\"\"\n",
    "\n",
    "    d1 = (np.log(S0 / K) + (r + 0.5 * σ**2) * T) / (σ * np.sqrt(T))\n",
    "    d2 = d1 - σ * np.sqrt(T)\n",
    "    N1 = norm.cdf(d1,0,1)\n",
    "    N2 = norm.cdf(d2,0,1)\n",
    "    C0 = S0 * N1 - K * N2 * np.exp(-r*T)\n",
    "\n",
    "    return C0\n",
    "\n",
    "def mc_euro_call_value(S0, K, T, r, σ, Ts=260, N=100000):\n",
    "    \"\"\"Prices the European call option with numerical MC simulation.\n",
    "    \n",
    "    Parameters\n",
    "        S0: initial stock/index level\n",
    "        K:  strike price\n",
    "        T:  maturity date (in year fractions)\n",
    "        r:  constant risk-free short rate\n",
    "        σ:  volatility factor in diffusion term\n",
    "        Ts: default=260 (assuming 260 trading days a year)\n",
    "            num of time steps; the higher the num the closer the ret value is to continuus approximation \n",
    "        N:  default=100000\n",
    "            num of simulated paths\n",
    "\n",
    "    Returns\n",
    "        Call Value: present value (time=0) of the European call option\n",
    "            \n",
    "    \"\"\"\n",
    "  \n",
    "    dt = T / Ts # time step\n",
    "    S = np.zeros((Ts + 1, N))\n",
    "    S[0] = S0\n",
    "    \n",
    "    # Euler's discretization of B-S-M SDE\n",
    "    for t in range(1, Ts + 1):\n",
    "        z = np.random.standard_normal(N)  \n",
    "        S[t] = S[t-1] * np.exp( (r - 0.5 * σ**2) * dt   +   σ * np.sqrt(dt) * z )\n",
    "\n",
    "    C0 = np.exp(-r*T) * np.mean(np.maximum(S[-1] - K, 0))\n",
    "\n",
    "    return C0"
   ]
  },
  {
   "cell_type": "code",
   "execution_count": 15,
   "metadata": {},
   "outputs": [
    {
     "data": {
      "text/plain": [
       "10.450583572185572"
      ]
     },
     "execution_count": 15,
     "metadata": {},
     "output_type": "execute_result"
    }
   ],
   "source": [
    "bsm_euro_call_value(S0,K,T,r,σ)"
   ]
  },
  {
   "cell_type": "code",
   "execution_count": 16,
   "metadata": {},
   "outputs": [
    {
     "data": {
      "text/plain": [
       "10.417662320281956"
      ]
     },
     "execution_count": 16,
     "metadata": {},
     "output_type": "execute_result"
    }
   ],
   "source": [
    "mc_euro_call_value(S0,K,T,r,σ,Ts,N)"
   ]
  },
  {
   "cell_type": "markdown",
   "metadata": {},
   "source": [
    "## Asian Fixed Strike Options"
   ]
  },
  {
   "cell_type": "code",
   "execution_count": 17,
   "metadata": {},
   "outputs": [],
   "source": [
    "#\n",
    "# Asian fixed strike geometric call options\n",
    "#\n",
    "\n",
    "def kv_asian_fixed_strike_geome_call_value(S0, K, T, r, σ):\n",
    "    \"\"\"Prices the Asian fixed strike geometric call option with analytical (Kemna and Vorst) formula.\n",
    "    \n",
    "    Parameters\n",
    "        S0: initial stock/index level\n",
    "        K:  strike price\n",
    "        T:  maturity date (in year fractions)\n",
    "        r:  constant risk-free short rate\n",
    "        σ:  volatility factor in diffusion term\n",
    "\n",
    "    Returns\n",
    "        Call Value: present value of the Asian fixed strike geometric call option\n",
    "            \n",
    "    \"\"\"\n",
    "    \n",
    "    σ_a = σ / np.sqrt(3)\n",
    "    b = 0.5 * (r - σ**2 / 6)\n",
    "    d1 = (np.log(S0 / K) + (b + 0.5 * σ_a**2) * T) / (σ_a * np.sqrt(T))\n",
    "    d2 = d1 - σ_a * np.sqrt(T)\n",
    "    N1 = norm.cdf(d1,0,1)\n",
    "    N2 = norm.cdf(d2,0,1)\n",
    "    C0 = S0 * np.exp((b - r) * T) * N1  -  K * np.exp(-r*T) * N2\n",
    "\n",
    "    return C0\n",
    "\n",
    "\n",
    "\n",
    "def mc_asian_fixed_strike_geome_call_value(S0, K, T, r, σ, Ts=260, N=100000):\n",
    "    \"\"\"Prices the Asian fixed strike geometric call option with numerical MC simulation.\n",
    "    \n",
    "    Parameters\n",
    "        S0: initial stock/index level\n",
    "        K:  strike price\n",
    "        T:  maturity date (in year fractions)\n",
    "        r:  constant risk-free short rate\n",
    "        σ:  volatility factor in diffusion term\n",
    "        Ts: default=260 (assuming 260 trading days a year)\n",
    "            num of time steps; the higher the num the closer the ret value is to continuus approximation \n",
    "        N:  default=100000\n",
    "            num of simulated paths        \n",
    "\n",
    "    Returns\n",
    "        Call Value: present value of the Asian fixed strike geometric call option\n",
    "        \n",
    "    \"\"\"\n",
    "\n",
    "    dt = T / Ts # time step\n",
    "    S = np.zeros((Ts + 1, N))\n",
    "    S[0] = S0\n",
    "    \n",
    "    for t in range(1, Ts + 1):\n",
    "        z = np.random.standard_normal(N) \n",
    "        S[t] = S[t-1] * np.exp( (r - 0.5 * σ**2) * dt   +   σ * np.sqrt(dt) * z )\n",
    "\n",
    "    C0 = np.exp(-r*T) * np.mean(np.maximum( np.exp(np.mean(np.log(S),axis=0)) - K, 0 ))        \n",
    "    \n",
    "    return C0\n",
    "\n",
    "\n",
    "\n",
    "def mc_wur_asian_fixed_strike_geome_call_value(S0, K, T, r, σ, Ts=260, N=100000, ret_err=False):\n",
    "    \"\"\"Prices the Asian fixed strike geometric call option with numerical MC simulation with upating rule.\n",
    "    \n",
    "    Compared to mc_asian_fixed_strike_arith_call_value(), \n",
    "    this function uses the update rule, which allows it to keep in memory only the last mean values, \n",
    "    and so more time steps (approaching continuous sampling) can be used.\n",
    "    \n",
    "    Parameters\n",
    "        S0: initial stock/index level\n",
    "        K:  strike price\n",
    "        T:  maturity date (in year fractions)\n",
    "        r:  constant risk-free short rate\n",
    "        σ:  volatility factor in diffusion term\n",
    "        Ts: default=260 (assuming 260 trading days a year)\n",
    "            num of time steps; the higher the num the closer the ret value is to continuus approximation \n",
    "        N:  default=100000\n",
    "            num of simulated paths        \n",
    "\n",
    "    Returns\n",
    "        Call Value: present value of the Asian fixed strike geometric call option\n",
    "        \n",
    "    \"\"\"\n",
    "    \n",
    "    dt = T / Ts # one time step   \n",
    "    S = S0 * np.ones((1,N)) # holds spot prices\n",
    "    M = S0 * np.ones((1,N)) # holds means for each path\n",
    "    \n",
    "    for t in range(1, Ts + 1):\n",
    "        z = np.random.standard_normal((1,N))\n",
    "        S = S * np.exp( (r - 0.5 * σ**2) * dt   +   σ * np.sqrt(dt) * z )\n",
    "        M = M * (t-1)/t + np.log(S)/t\n",
    "\n",
    "    N_path_values = np.maximum(np.exp(M) - K, 0)      \n",
    "    C0 = np.exp(-r*T) * np.mean(N_path_values)\n",
    "  \n",
    "    if ret_err:\n",
    "        return C0, np.std(N_path_values)/np.sqrt(N)\n",
    "    else:\n",
    "        return C0\n"
   ]
  },
  {
   "cell_type": "code",
   "execution_count": 22,
   "metadata": {},
   "outputs": [],
   "source": [
    "\n",
    "#\n",
    "# Asian fixed strike arithmetic call options\n",
    "#\n",
    "\n",
    "def levy_asian_fixed_strike_arith_call_value(S0, K, T, r, σ):\n",
    "    \"\"\"Prices the Asian fixed strike arithmetic call option with analytical formula (Levy approximation).\n",
    "    \n",
    "    Parameters\n",
    "        S0: initial stock/index level\n",
    "        K:  strike price\n",
    "        T:  maturity date (in year fractions)\n",
    "        r:  constant risk-free short rate\n",
    "        σ:  volatility factor in diffusion term\n",
    "\n",
    "    Returns\n",
    "        Call Value: present value of the Asian fixed strike arithmetic call option\n",
    "        \n",
    "    \"\"\"   \n",
    "    \n",
    "    M1 = 2 * S0**2\n",
    "    M2 = r + (σ**2)\n",
    "    M3 = (2 * r + σ**2)*T\n",
    "    M4 = 2 * r + σ**2\n",
    "    M5 = r * T\n",
    "    M = (M1/M2) * ( (np.exp(M3) - 1)/M4  -  (np.exp(M5) - 1)/r )\n",
    "    L = M / (T**2)\n",
    "    \n",
    "    S_Z = S0 * (1 - np.exp(-r*T)) / (r*T)\n",
    "    ν = np.log(L) - 2 * (r*T + np.log(S_Z))\n",
    "    K_Z = K\n",
    "    \n",
    "    d1 = (0.5 * np.log(L)  -  np.log(K_Z)) / np.sqrt(ν)\n",
    "    d2 = d1 - np.sqrt(ν)\n",
    "    N1 = norm.cdf(d1,0,1)\n",
    "    N2 = norm.cdf(d2,0,1)\n",
    "    C0 = S_Z * N1 - K_Z * np.exp(-r*T) * N2\n",
    "    \n",
    "    return C0\n",
    "\n",
    "\n",
    "\n",
    "def mc_asian_fixed_strike_arith_call_value(S0, K, T, r, σ, Ts=260, N=100000):\n",
    "    \"\"\"Prices the Asian fixed strike arithmetic call option with numerical MC simulation.\n",
    "    \n",
    "    Parameters\n",
    "        S0: initial stock/index level\n",
    "        K:  strike price\n",
    "        T:  maturity date (in year fractions)\n",
    "        r:  constant risk-free short rate\n",
    "        σ:  volatility factor in diffusion term\n",
    "        Ts: default=260 (assuming 260 trading days a year)\n",
    "            num of time steps; the higher the num the closer the ret value is to continuus approximation \n",
    "        N:  default=100000\n",
    "            num of simulated paths        \n",
    "\n",
    "    Returns\n",
    "        Call Value: present value of the Asian geometric call option\n",
    "    \"\"\"\n",
    "\n",
    "    dt = T / Ts # one time step   \n",
    "    S = np.zeros((Ts + 1, N))\n",
    "    S[0] = S0\n",
    "    \n",
    "    for t in range(1, Ts + 1):\n",
    "        z = np.random.standard_normal(N) \n",
    "        S[t] = S[t - 1] * np.exp( (r - 0.5 * σ**2) * dt   +   σ * np.sqrt(dt) * z )\n",
    "\n",
    "    C0 = np.exp(-r*T) * np.mean( np.maximum( np.mean(S,axis=0) - K, 0 ) )        \n",
    "    \n",
    "    return C0\n",
    "\n",
    "\n",
    "\n",
    "def mc_wur_asian_fixed_strike_arith_call_value(S0, K, T, r, σ, Ts=260, N=100000, ret_err=False):\n",
    "    \"\"\"Prices the Asian fixed strike arithmetic call option with numerical MC simulation and with upating rule.\n",
    "    \n",
    "    Compared to mc_asian_fixed_strike_arith_call_value(), \n",
    "    this function uses the update rule, which allows it to keep in memory only the last mean values, \n",
    "    and so more time steps (approaching continuous sampling) can be used.\n",
    "    \n",
    "    Parameters\n",
    "        S0: initial stock/index level\n",
    "        K:  strike price\n",
    "        T:  maturity date (in year fractions)\n",
    "        r:  constant risk-free short rate\n",
    "        σ:  volatility factor in diffusion term\n",
    "        Ts: default=260 (assuming 260 trading days a year)\n",
    "            num of time steps; the higher the num the closer the ret value is to continuus approximation \n",
    "        N:  default=100000\n",
    "            num of simulated paths        \n",
    "\n",
    "    Returns\n",
    "        Call Value: present value of the Asian geometric call option\n",
    "    \"\"\"\n",
    "\n",
    "    dt = T / Ts # one time step   \n",
    "    S = S0 * np.ones((1,N)) # holds spot prices\n",
    "    M = S0 * np.ones((1,N)) # holds means for each path\n",
    "    \n",
    "    for t in range(1, Ts + 1):\n",
    "        z = np.random.standard_normal((1,N))\n",
    "        S = S * np.exp( (r - 0.5 * σ**2) * dt   +   σ * np.sqrt(dt) * z )\n",
    "        M = M * (t-1)/t + S/t\n",
    "\n",
    "    N_path_values = np.maximum(M - K, 0)\n",
    "    C0 = np.exp(-r*T) * np.mean(N_path_values)\n",
    "    \n",
    "    if ret_err:\n",
    "        return C0, np.std(N_path_values)/np.sqrt(N)\n",
    "    else:\n",
    "        return C0\n",
    "\n",
    "\n",
    "\n",
    "def mc_wur_wsv_asian_fixed_strike_arith_call_value(S0, K, T, r, α, σ_lt, σ, ξ, Ts=260, N=100000, ret_err=False):    \n",
    "    \"\"\"Prices the Asian fixed strike arithmetic call option with numerical MC simulation and with upating rule.\n",
    "    The volatility is assumed to be stochastic.\n",
    "    \n",
    "    Compared to mc_asian_fixed_strike_arith_call_value(), \n",
    "    this function uses the update rule, which allows it to keep in memory only the last mean values, \n",
    "    and so more time steps (approaching continuous sampling) can be used.\n",
    "    \n",
    "    Parameters\n",
    "        S0: initial stock/index level\n",
    "        K:  strike price\n",
    "        T:  maturity date (in year fractions)\n",
    "        r:  constant risk-free short rate\n",
    "        α:  speed of mean-reversion\n",
    "        σ_lt:  long term volatility\n",
    "        σ:  volatility\n",
    "        ξ:  volatility of volatility\n",
    "        Ts: default=260 (assuming 260 trading days a year)\n",
    "            num of time steps; the higher the num the closer the ret value is to continuus approximation \n",
    "        N:  default=100000\n",
    "            num of simulated paths        \n",
    "\n",
    "    Returns\n",
    "        Call Value: present value of the Asian geometric call option with stochastic voloatility\n",
    "    \"\"\"\n",
    "\n",
    "    dt = T / Ts # one time step  \n",
    "    σ_lt = σ_lt * np.ones((1,N))\n",
    "    σ2 = σ**2 * np.ones((1,N)) # holds volatilities\n",
    "    S = S0 * np.ones((1,N)) # holds spot prices\n",
    "    M = S0 * np.ones((1,N)) # holds means for each path\n",
    "    \n",
    "    for t in range(1, Ts + 1):\n",
    "        \n",
    "        z = np.random.standard_normal((1,N))\n",
    "        \n",
    "        σ2 = σ2 * np.exp( (α*(σ_lt-np.sqrt(σ2)) - 0.5 * ξ**2) * dt   +   ξ * np.sqrt(dt) * z )\n",
    "        S = S * np.exp( (r - 0.5 * σ2) * dt  +  np.sqrt(σ2) * np.sqrt(dt) * z )\n",
    "        \n",
    "        M = M * (t-1)/t + S/t\n",
    "        \n",
    "\n",
    "    N_path_values = np.maximum(M - K, 0)\n",
    "    C0 = np.exp(-r*T) * np.mean(N_path_values)\n",
    "    \n",
    "    if ret_err:\n",
    "        return C0, np.std(N_path_values)/np.sqrt(N)\n",
    "    else:\n",
    "        return C0\n",
    "    "
   ]
  },
  {
   "cell_type": "code",
   "execution_count": 23,
   "metadata": {},
   "outputs": [
    {
     "data": {
      "text/plain": [
       "5.546818633789201"
      ]
     },
     "execution_count": 23,
     "metadata": {},
     "output_type": "execute_result"
    }
   ],
   "source": [
    "kv_asian_fixed_strike_geome_call_value(S0,K,T,r,σ)"
   ]
  },
  {
   "cell_type": "code",
   "execution_count": 24,
   "metadata": {},
   "outputs": [
    {
     "data": {
      "text/plain": [
       "5.519245436545222"
      ]
     },
     "execution_count": 24,
     "metadata": {},
     "output_type": "execute_result"
    }
   ],
   "source": [
    "mc_asian_fixed_strike_geome_call_value(S0,K,T,r,σ,Ts,N)"
   ]
  },
  {
   "cell_type": "code",
   "execution_count": 25,
   "metadata": {},
   "outputs": [
    {
     "data": {
      "text/plain": [
       "5.412903778041238"
      ]
     },
     "execution_count": 25,
     "metadata": {},
     "output_type": "execute_result"
    }
   ],
   "source": [
    "# bump up the number of time steps (to see the effect of increased averaging)\n",
    "mc_wur_asian_fixed_strike_geome_call_value(S0,K,T,r,σ,Ts=Ts*24,N=N) # 24 a day"
   ]
  },
  {
   "cell_type": "code",
   "execution_count": 26,
   "metadata": {},
   "outputs": [
    {
     "data": {
      "text/plain": [
       "5.782838338049999"
      ]
     },
     "execution_count": 26,
     "metadata": {},
     "output_type": "execute_result"
    }
   ],
   "source": [
    "levy_asian_fixed_strike_arith_call_value(S0,K,T,r,σ)"
   ]
  },
  {
   "cell_type": "code",
   "execution_count": 27,
   "metadata": {},
   "outputs": [
    {
     "data": {
      "text/plain": [
       "5.5687221264531175"
      ]
     },
     "execution_count": 27,
     "metadata": {},
     "output_type": "execute_result"
    }
   ],
   "source": [
    "mc_asian_fixed_strike_arith_call_value(S0,K,T,r,σ,Ts,N)"
   ]
  },
  {
   "cell_type": "code",
   "execution_count": 28,
   "metadata": {},
   "outputs": [
    {
     "data": {
      "text/plain": [
       "5.816611098573083"
      ]
     },
     "execution_count": 28,
     "metadata": {},
     "output_type": "execute_result"
    }
   ],
   "source": [
    "# bump up the number of time steps (to see the effect of increased averaging)\n",
    "mc_wur_asian_fixed_strike_arith_call_value(S0,K,T,r,σ,Ts=Ts*24,N=N) # 24 a day"
   ]
  },
  {
   "cell_type": "code",
   "execution_count": 29,
   "metadata": {},
   "outputs": [
    {
     "data": {
      "text/html": [
       "<div>\n",
       "<style scoped>\n",
       "    .dataframe tbody tr th:only-of-type {\n",
       "        vertical-align: middle;\n",
       "    }\n",
       "\n",
       "    .dataframe tbody tr th {\n",
       "        vertical-align: top;\n",
       "    }\n",
       "\n",
       "    .dataframe thead th {\n",
       "        text-align: right;\n",
       "    }\n",
       "</style>\n",
       "<table border=\"1\" class=\"dataframe\">\n",
       "  <thead>\n",
       "    <tr style=\"text-align: right;\">\n",
       "      <th></th>\n",
       "      <th>Volatility %</th>\n",
       "      <th>Levy Approx</th>\n",
       "      <th>MC Simulation</th>\n",
       "      <th>Standard Error</th>\n",
       "      <th>Lower Bound</th>\n",
       "      <th>Upper Bound</th>\n",
       "      <th>Pricing Diff %</th>\n",
       "    </tr>\n",
       "  </thead>\n",
       "  <tbody>\n",
       "    <tr>\n",
       "      <th>0</th>\n",
       "      <td>10.0</td>\n",
       "      <td>3.647479</td>\n",
       "      <td>4.505930</td>\n",
       "      <td>0.055896</td>\n",
       "      <td>4.504835</td>\n",
       "      <td>4.507026</td>\n",
       "      <td>-23.535459</td>\n",
       "    </tr>\n",
       "    <tr>\n",
       "      <th>1</th>\n",
       "      <td>20.0</td>\n",
       "      <td>5.782838</td>\n",
       "      <td>6.746882</td>\n",
       "      <td>0.095775</td>\n",
       "      <td>6.745005</td>\n",
       "      <td>6.748759</td>\n",
       "      <td>-16.670775</td>\n",
       "    </tr>\n",
       "    <tr>\n",
       "      <th>2</th>\n",
       "      <td>30.0</td>\n",
       "      <td>7.992520</td>\n",
       "      <td>8.598692</td>\n",
       "      <td>0.130098</td>\n",
       "      <td>8.596142</td>\n",
       "      <td>8.601242</td>\n",
       "      <td>-7.584238</td>\n",
       "    </tr>\n",
       "    <tr>\n",
       "      <th>3</th>\n",
       "      <td>40.0</td>\n",
       "      <td>10.230318</td>\n",
       "      <td>10.184716</td>\n",
       "      <td>0.159285</td>\n",
       "      <td>10.181594</td>\n",
       "      <td>10.187838</td>\n",
       "      <td>0.445752</td>\n",
       "    </tr>\n",
       "    <tr>\n",
       "      <th>4</th>\n",
       "      <td>50.0</td>\n",
       "      <td>12.489537</td>\n",
       "      <td>12.122832</td>\n",
       "      <td>0.197276</td>\n",
       "      <td>12.118966</td>\n",
       "      <td>12.126699</td>\n",
       "      <td>2.936093</td>\n",
       "    </tr>\n",
       "    <tr>\n",
       "      <th>5</th>\n",
       "      <td>60.0</td>\n",
       "      <td>14.770189</td>\n",
       "      <td>13.415148</td>\n",
       "      <td>0.222690</td>\n",
       "      <td>13.410783</td>\n",
       "      <td>13.419513</td>\n",
       "      <td>9.174162</td>\n",
       "    </tr>\n",
       "  </tbody>\n",
       "</table>\n",
       "</div>"
      ],
      "text/plain": [
       "   Volatility %  Levy Approx  MC Simulation  Standard Error  Lower Bound  \\\n",
       "0          10.0     3.647479       4.505930        0.055896     4.504835   \n",
       "1          20.0     5.782838       6.746882        0.095775     6.745005   \n",
       "2          30.0     7.992520       8.598692        0.130098     8.596142   \n",
       "3          40.0    10.230318      10.184716        0.159285    10.181594   \n",
       "4          50.0    12.489537      12.122832        0.197276    12.118966   \n",
       "5          60.0    14.770189      13.415148        0.222690    13.410783   \n",
       "\n",
       "   Upper Bound  Pricing Diff %  \n",
       "0     4.507026      -23.535459  \n",
       "1     6.748759      -16.670775  \n",
       "2     8.601242       -7.584238  \n",
       "3    10.187838        0.445752  \n",
       "4    12.126699        2.936093  \n",
       "5    13.419513        9.174162  "
      ]
     },
     "execution_count": 29,
     "metadata": {},
     "output_type": "execute_result"
    }
   ],
   "source": [
    "# analayze the impact of stochastic volatility on the option price\n",
    "\n",
    "α = 10     # speed of mean-reverting process\n",
    "σ_lt = 0.2  # long-term volatility\n",
    "ξ = 0.3     # volatility of volatility\n",
    "\n",
    "data = []\n",
    "# σ is the starting volatility\n",
    "for σ in [0.1,0.2,0.3,0.4,0.5,0.6]:\n",
    "    levy_appox = levy_asian_fixed_strike_arith_call_value(S0,K,T,r,σ)\n",
    "    mc_cv, mc_se = mc_wur_wsv_asian_fixed_strike_arith_call_value(S0, K, T, r, α=α, σ_lt=σ_lt, σ=σ, ξ=ξ, Ts=Ts, N=10000, ret_err=True)\n",
    "    data.append((100*σ, # starting volatility value\n",
    "                 levy_appox, # Levy approx\n",
    "                 mc_cv, # MC call value\n",
    "                 mc_se, # std err\n",
    "                 mc_cv - 1.96 * mc_se / np.sqrt(N), # lower bound\n",
    "                 mc_cv + 1.96 * mc_se / np.sqrt(N), # upper bound\n",
    "                 100 * (levy_appox - mc_cv) / levy_appox,  # pricing diff %\n",
    "               ))\n",
    "    \n",
    "    \n",
    "σ = 0.2 # reset volatility to 20%\n",
    "\n",
    "df = pd.DataFrame(data,columns=['Volatility %','Levy Approx','MC Simulation','Standard Error','Lower Bound','Upper Bound','Pricing Diff %'])\n",
    "df"
   ]
  },
  {
   "cell_type": "markdown",
   "metadata": {},
   "source": [
    "Notes: \n",
    "- the values of asians simulated with MC correspond to those obtained with the analytical formulas \n",
    "- $C_{arith}^{fixed} \\geq C_{geom}^{fixed}$\n",
    "- the more time steps the less the option price, as it seems that more frequent averaging reduces volatility\n",
    "- with the volatility increase, the call price and std errors increase too\n",
    "- tha Levy approximation with constant volatility, compared to MC with stochastic volatility, seems to over-estimate option values for high volatilities and under-estimate them for low ones"
   ]
  },
  {
   "cell_type": "markdown",
   "metadata": {},
   "source": [
    "## Asian Floating Strike Options"
   ]
  },
  {
   "cell_type": "code",
   "execution_count": 31,
   "metadata": {},
   "outputs": [],
   "source": [
    "\n",
    "#\n",
    "# Asian floating strike geometric call options\n",
    "#\n",
    "\n",
    "\n",
    "def asian_floating_strike_geom_call_value(S0, T, r, σ):\n",
    "    \"\"\"Prices the Asian floating strike geometric call option with analytical formula.\n",
    "    \n",
    "    This formula has been taken from the dissertaion \n",
    "    \"Theoretical and Numerical Schemes for Pricing Exotics\" by Stavri, Ahmad     \n",
    "    \n",
    "    Parameters\n",
    "        S0: initial stock/index level\n",
    "        T:  maturity date (in year fractions)\n",
    "        r:  constant risk-free short rate\n",
    "        σ:  volatility factor in diffusion term\n",
    "\n",
    "    Returns\n",
    "        Call value: present value of the Asian floating strike geometric call option\n",
    "            \n",
    "    \"\"\"\n",
    "    \n",
    "    d1 = (r + 0.5 * σ**2) * T**2/2 / (σ * np.sqrt(T**3/3))\n",
    "    d2 = d1  -  σ * np.sqrt(T**3/3)\n",
    "    N1 = norm.cdf(d1,0,1)\n",
    "    N2 = norm.cdf(d2,0,1)\n",
    "    C0 = S0 * N1  -  S0 * np.exp(-0.5 * (r + 0.5 * σ**2) * T  +  σ**2 * T /6) * N2\n",
    "\n",
    "    return C0\n",
    "\n",
    "\n",
    "\n",
    "def mc_asian_floating_strike_geom_call_value(S0, T, r, σ, Ts=260, N=100000):\n",
    "    \"\"\"Prices the Asian floating strike geometric call option with numerical MC simulation.\n",
    "    \n",
    "    Parameters\n",
    "        S0: initial stock/index level\n",
    "        T:  maturity date (in year fractions)\n",
    "        r:  constant risk-free short rate\n",
    "        σ:  volatility factor in diffusion term\n",
    "        Ts: default=260 (assuming 260 trading days a year)\n",
    "            num of time steps; the higher the num the closer the ret value is to continuus approximation \n",
    "        N:  default=100000\n",
    "            num of simulated paths        \n",
    "\n",
    "    Returns\n",
    "        Call Value: present value of the Asian floating strike geometric call option\n",
    "            \n",
    "    \"\"\"\n",
    "\n",
    "    dt = T / Ts # one time step    \n",
    "    S = np.zeros((Ts + 1, N))\n",
    "    S[0] = S0\n",
    "    \n",
    "    for t in range(1, Ts + 1):\n",
    "        z = np.random.standard_normal(N) \n",
    "        S[t] = S[t-1] * np.exp( (r - 0.5 * σ**2) * dt   +   σ * np.sqrt(dt) * z )\n",
    "\n",
    "    C0 = np.exp(-r*T) * np.mean(np.maximum( np.mean(S[-1]) - np.exp(np.mean(np.log(S),axis=0)), 0 )) \n",
    "    \n",
    "    return C0\n",
    "\n",
    "\n",
    "\n",
    "def mc_wur_asian_floating_strike_geom_call_value(S0, T, r, σ, Ts=260, N=100000):\n",
    "    \"\"\"Prices the Asian floating strike geometric call option with numerical MC simulation with upating rule.\n",
    "    \n",
    "    Compared to mc_asian_floating_strike_geom_call_value(), \n",
    "    this function uses the update rule, which allows it to keep in memory only the last mean values, \n",
    "    and so more time steps (approaching continuous sampling) can be used.\n",
    "    \n",
    "    Parameters\n",
    "        S0: initial stock/index level\n",
    "        T:  maturity date (in year fractions)\n",
    "        r:  constant risk-free short rate\n",
    "        σ:  volatility factor in diffusion term\n",
    "        Ts: default=260 (assuming 260 trading days a year)\n",
    "            num of time steps; the higher the num the closer the ret value is to continuus approximation \n",
    "        N:  default=100000\n",
    "            num of simulated paths        \n",
    "\n",
    "    Returns\n",
    "        Call Value: present value of the Asian floating strike geometric call option\n",
    "            \n",
    "    \"\"\"\n",
    "\n",
    "    dt = T / Ts # one time step\n",
    "    S = S0 * np.ones((1,N)) # holds spot prices\n",
    "    M = S0 * np.zeros((1,N)) # holds means for each path\n",
    "    \n",
    "    for t in range(1, Ts + 1):\n",
    "        z = np.random.standard_normal((1,N))\n",
    "        S = S * np.exp( (r - 0.5 * σ**2) * dt   +   σ * np.sqrt(dt) * z )\n",
    "        M = M * (t-1)/t + np.log(S)/t\n",
    "\n",
    "    C0 = np.exp(-r*T) * np.mean( np.maximum( np.mean(S) - np.exp(M), 0 ) ) \n",
    "    \n",
    "    return C0\n",
    "\n",
    "\n",
    "#\n",
    "# Asian floating strike arithmetic call options\n",
    "#\n",
    "\n",
    "\n",
    "def mc_asian_floating_strike_arith_call_value(S0, T, r, σ, Ts=260, N=100000):\n",
    "    \"\"\"Prices the Asian floating strike geometric call option with numerical MC simulation.\n",
    "\n",
    "    \n",
    "    Parameters\n",
    "        S0: initial stock/index level\n",
    "        T:  maturity date (in year fractions)\n",
    "        r:  constant risk-free short rate\n",
    "        σ:  volatility factor in diffusion term\n",
    "        Ts: default=260 (assuming 260 trading days a year)\n",
    "            num of time steps; the higher the num the closer the ret value is to continuus approximation \n",
    "        N:  default=100000\n",
    "            num of simulated paths        \n",
    "\n",
    "    Returns\n",
    "        Call Value: present value of the Asian floating strike geometric call option\n",
    "            \n",
    "    \"\"\"\n",
    "\n",
    "    dt = T / Ts # one time step\n",
    "    S = np.zeros((Ts + 1, N))\n",
    "    S[0] = S0\n",
    "    \n",
    "    for t in range(1, Ts + 1):\n",
    "        z = np.random.standard_normal(N) \n",
    "        S[t] = S[t-1] * np.exp( (r - 0.5 * σ**2) * dt   +   σ * np.sqrt(dt) * z )\n",
    "\n",
    "    C0 = np.exp(-r*T) * np.mean( np.maximum( np.mean(S[-1]) - np.mean(S,axis=0), 0 ) )        \n",
    "    \n",
    "    return C0\n",
    "\n",
    "\n",
    "\n",
    "def mc_wur_asian_floating_strike_arith_call_value(S0, T, r, σ, Ts=260, N=100000):\n",
    "    \"\"\"Prices the Asian floating strike arithmetic call option with numerical MC simulation and with upating rule.\n",
    "    \n",
    "    Compared to mc_asian_floating_strike_arith_call_value(), \n",
    "    this function uses the update rule, which allows it to keep in memory only the last mean values, \n",
    "    and so more time steps (approaching continuous sampling) can be used.\n",
    "    \n",
    "    Parameters\n",
    "        S0: initial stock/index level\n",
    "        T:  maturity date (in year fractions)\n",
    "        r:  constant risk-free short rate\n",
    "        σ:  volatility factor in diffusion term\n",
    "        Ts: default=260 (assuming 260 trading days a year)\n",
    "            num of time steps; the higher the num the closer the ret value is to continuus approximation \n",
    "        N:  default=100000\n",
    "            num of simulated paths        \n",
    "\n",
    "    Returns\n",
    "        Call Value: present value of the Asian floating strike geometric call option\n",
    "            \n",
    "    \"\"\"\n",
    "\n",
    "    dt = T / Ts # one time step\n",
    "    S = S0 * np.ones((1,N)) # holds spot prices\n",
    "    M = S0 * np.ones((1,N)) # holds means for each path\n",
    "    \n",
    "    for t in range(1, Ts + 1):\n",
    "        z = np.random.standard_normal((1,N))\n",
    "        S = S * np.exp( (r - 0.5 * σ**2) * dt   +   σ * np.sqrt(dt) * z )\n",
    "        M = M * (t-1)/t + S/t\n",
    "\n",
    "    C0 = np.exp(-r*T) * np.mean( np.maximum( np.mean(S) - M, 0 ) ) \n",
    "    \n",
    "    return C0\n"
   ]
  },
  {
   "cell_type": "code",
   "execution_count": 32,
   "metadata": {},
   "outputs": [
    {
     "data": {
      "text/plain": [
       "6.072328315833225"
      ]
     },
     "execution_count": 32,
     "metadata": {},
     "output_type": "execute_result"
    }
   ],
   "source": [
    "asian_floating_strike_geom_call_value(S0,T,r,σ)"
   ]
  },
  {
   "cell_type": "code",
   "execution_count": 33,
   "metadata": {},
   "outputs": [
    {
     "data": {
      "text/plain": [
       "6.2326278499046825"
      ]
     },
     "execution_count": 33,
     "metadata": {},
     "output_type": "execute_result"
    }
   ],
   "source": [
    "mc_asian_floating_strike_geom_call_value(S0,T,r,σ,Ts,N)"
   ]
  },
  {
   "cell_type": "code",
   "execution_count": 34,
   "metadata": {},
   "outputs": [
    {
     "data": {
      "text/plain": [
       "6.2480996530284205"
      ]
     },
     "execution_count": 34,
     "metadata": {},
     "output_type": "execute_result"
    }
   ],
   "source": [
    "# bump up the number of time steps\n",
    "mc_wur_asian_floating_strike_geom_call_value(S0,T,r,σ,Ts=Ts*24,N=N) # 24x a day"
   ]
  },
  {
   "cell_type": "code",
   "execution_count": 35,
   "metadata": {},
   "outputs": [
    {
     "data": {
      "text/plain": [
       "5.833147302682907"
      ]
     },
     "execution_count": 35,
     "metadata": {},
     "output_type": "execute_result"
    }
   ],
   "source": [
    "mc_asian_floating_strike_arith_call_value(S0,T,r,σ,Ts,N)"
   ]
  },
  {
   "cell_type": "code",
   "execution_count": 36,
   "metadata": {},
   "outputs": [
    {
     "data": {
      "text/plain": [
       "5.839709250744089"
      ]
     },
     "execution_count": 36,
     "metadata": {},
     "output_type": "execute_result"
    }
   ],
   "source": [
    "# bump up the number of time steps \n",
    "mc_wur_asian_floating_strike_arith_call_value(S0,T,r,σ,Ts=Ts*24,N=N) # 24x a day"
   ]
  },
  {
   "cell_type": "markdown",
   "metadata": {},
   "source": [
    "Notes\n",
    "- the values of geometric asians simulated with MC correspond to those obtained with analytical formulas\n",
    "- $C_{arith}^{float} \\leq C_{geom}^{float}$\n",
    "- As above, the more number of time steps, the bigger the price reduction due to reduced volatility (more frequent averaging)"
   ]
  },
  {
   "cell_type": "markdown",
   "metadata": {},
   "source": [
    "## Errors for MC simulations of geometric and arithmetic fixed strike asians"
   ]
  },
  {
   "cell_type": "code",
   "execution_count": 37,
   "metadata": {},
   "outputs": [
    {
     "data": {
      "text/html": [
       "<div>\n",
       "<style scoped>\n",
       "    .dataframe tbody tr th:only-of-type {\n",
       "        vertical-align: middle;\n",
       "    }\n",
       "\n",
       "    .dataframe tbody tr th {\n",
       "        vertical-align: top;\n",
       "    }\n",
       "\n",
       "    .dataframe thead th {\n",
       "        text-align: right;\n",
       "    }\n",
       "</style>\n",
       "<table border=\"1\" class=\"dataframe\">\n",
       "  <thead>\n",
       "    <tr style=\"text-align: right;\">\n",
       "      <th></th>\n",
       "      <th>K-V for Geome</th>\n",
       "      <th>MC for Geome</th>\n",
       "      <th>Err for Geome</th>\n",
       "      <th>Levy for Arith</th>\n",
       "      <th>MC for Arith</th>\n",
       "      <th>Err for Arith</th>\n",
       "    </tr>\n",
       "    <tr>\n",
       "      <th>Num of Paths</th>\n",
       "      <th></th>\n",
       "      <th></th>\n",
       "      <th></th>\n",
       "      <th></th>\n",
       "      <th></th>\n",
       "      <th></th>\n",
       "    </tr>\n",
       "  </thead>\n",
       "  <tbody>\n",
       "    <tr>\n",
       "      <th>100.0</th>\n",
       "      <td>5.546819</td>\n",
       "      <td>6.689214</td>\n",
       "      <td>0.848479</td>\n",
       "      <td>5.782838</td>\n",
       "      <td>5.810919</td>\n",
       "      <td>0.752428</td>\n",
       "    </tr>\n",
       "    <tr>\n",
       "      <th>1000.0</th>\n",
       "      <td>5.546819</td>\n",
       "      <td>5.318071</td>\n",
       "      <td>0.256188</td>\n",
       "      <td>5.782838</td>\n",
       "      <td>6.070277</td>\n",
       "      <td>0.271783</td>\n",
       "    </tr>\n",
       "    <tr>\n",
       "      <th>10000.0</th>\n",
       "      <td>5.546819</td>\n",
       "      <td>5.403700</td>\n",
       "      <td>0.080770</td>\n",
       "      <td>5.782838</td>\n",
       "      <td>5.825464</td>\n",
       "      <td>0.083570</td>\n",
       "    </tr>\n",
       "    <tr>\n",
       "      <th>100000.0</th>\n",
       "      <td>5.546819</td>\n",
       "      <td>5.607669</td>\n",
       "      <td>0.025741</td>\n",
       "      <td>5.782838</td>\n",
       "      <td>5.838141</td>\n",
       "      <td>0.026763</td>\n",
       "    </tr>\n",
       "  </tbody>\n",
       "</table>\n",
       "</div>"
      ],
      "text/plain": [
       "              K-V for Geome  MC for Geome  Err for Geome  Levy for Arith  \\\n",
       "Num of Paths                                                               \n",
       "100.0              5.546819      6.689214       0.848479        5.782838   \n",
       "1000.0             5.546819      5.318071       0.256188        5.782838   \n",
       "10000.0            5.546819      5.403700       0.080770        5.782838   \n",
       "100000.0           5.546819      5.607669       0.025741        5.782838   \n",
       "\n",
       "              MC for Arith  Err for Arith  \n",
       "Num of Paths                               \n",
       "100.0             5.810919       0.752428  \n",
       "1000.0            6.070277       0.271783  \n",
       "10000.0           5.825464       0.083570  \n",
       "100000.0          5.838141       0.026763  "
      ]
     },
     "execution_count": 37,
     "metadata": {},
     "output_type": "execute_result"
    }
   ],
   "source": [
    "# compute geometric and arithmetic option prices for a range of paths\n",
    "geome_fixed = []\n",
    "arith_fixed = []\n",
    "for num_paths in np.logspace(2,5,4).astype(int):\n",
    "    geome_fixed.append((num_paths,\n",
    "                        *mc_wur_asian_fixed_strike_geome_call_value(S0,K,T,r,σ,Ts,N=num_paths,ret_err=True)))\n",
    "    arith_fixed.append (mc_wur_asian_fixed_strike_arith_call_value(S0,K,T,r,σ,Ts,N=num_paths,ret_err=True))\n",
    "    \n",
    "# assemble the results into a pd.DataFrame\n",
    "asian_fixed_df = pd.DataFrame(np.c_[geome_fixed,arith_fixed], \n",
    "                              columns=['Num of Paths',\n",
    "                                       'MC for Geome','Err for Geome',\n",
    "                                       'MC for Arith','Err for Arith']\n",
    "                             )\n",
    "asian_fixed_df.set_index(['Num of Paths'],inplace=True)\n",
    "asian_fixed_df.insert(0,'K-V for Geome',kv_asian_fixed_strike_geome_call_value(S0,K,T,r,σ))\n",
    "asian_fixed_df.insert(3,'Levy for Arith',levy_asian_fixed_strike_arith_call_value(S0,K,T,r,σ))\n",
    "asian_fixed_df    "
   ]
  },
  {
   "cell_type": "code",
   "execution_count": 38,
   "metadata": {},
   "outputs": [
    {
     "data": {
      "image/png": "[encoded data removed]",
      "text/plain": [
       "<Figure size 936x360 with 1 Axes>"
      ]
     },
     "metadata": {
      "needs_background": "light"
     },
     "output_type": "display_data"
    }
   ],
   "source": [
    "# plot the results\n",
    "( asian_fixed_df.iloc[:,[0,1,3,4]]\n",
    "      .plot.line(logx=True,\n",
    "                 lw=3,\n",
    "                 color=['darkgreen','limegreen','navy','blue'],\n",
    "                 figsize=(13,5)\n",
    "                )\n",
    ")\n",
    "\n",
    "# adorn the pot with shaded error areas\n",
    "ax = plt.gca()\n",
    "df = asian_fixed_df\n",
    "plt.xscale('log')\n",
    "ax.fill_between(df.index, \n",
    "                df['MC for Geome'] + df['Err for Geome'],\n",
    "                df['MC for Geome'] - df['Err for Geome'],\n",
    "                label='$1\\sigma$ for Geome',\n",
    "                alpha=.7, color='lightgreen'\n",
    "               )\n",
    "ax.legend()\n",
    "ax.fill_between(df.index, \n",
    "                df['MC for Arith'] + df['Err for Arith'],\n",
    "                df['MC for Arith'] - df['Err for Arith'],\n",
    "                label='$1\\sigma$ for Arith',\n",
    "                alpha=.7, color='lightblue'\n",
    "               )\n",
    "ax.legend(loc='lower right')\n",
    "ax.set_ylabel('Asian Fixed Strike Geom and Arith Call Values');"
   ]
  },
  {
   "cell_type": "markdown",
   "metadata": {},
   "source": [
    "Notes:\n",
    "- In MC simulations, the errors decrease with the number of simulated paths, ie. $\\epsilon = \\frac {\\sigma}{\\sqrt N}$\n",
    "- the more $N = 10^4$, the more MC simulations converge with the analytical values"
   ]
  },
  {
   "cell_type": "markdown",
   "metadata": {},
   "source": [
    "## Price characteristics"
   ]
  },
  {
   "cell_type": "code",
   "execution_count": 39,
   "metadata": {},
   "outputs": [
    {
     "data": {
      "image/png": "[encoded data removed]",
      "text/plain": [
       "<Figure size 432x288 with 1 Axes>"
      ]
     },
     "metadata": {
      "needs_background": "light"
     },
     "output_type": "display_data"
    }
   ],
   "source": [
    "# compute the Asian option prices for different strikes\n",
    "call_values = []\n",
    "for strike in np.linspace(80,120,5).astype(int):\n",
    "    call_values.append((strike,\n",
    "                        bsm_euro_call_value(S0,K=strike,T=T,r=r,σ=σ),\n",
    "                        levy_asian_fixed_strike_arith_call_value(S0,K=strike,T=T,r=r,σ=σ),\n",
    "                        kv_asian_fixed_strike_geome_call_value(S0,K=strike,T=T,r=r,σ=σ),))\n",
    "    \n",
    "    \n",
    "call_values_df = pd.DataFrame(call_values, columns=['Strike Price','Euro','Arith','Geom'])\n",
    "call_values_df.set_index('Strike Price',inplace=True)\n",
    "call_values_df.plot.line()\n",
    "plt.ylabel('Call Prices');    "
   ]
  },
  {
   "cell_type": "code",
   "execution_count": 40,
   "metadata": {},
   "outputs": [
    {
     "data": {
      "text/html": [
       "<div>\n",
       "<style scoped>\n",
       "    .dataframe tbody tr th:only-of-type {\n",
       "        vertical-align: middle;\n",
       "    }\n",
       "\n",
       "    .dataframe tbody tr th {\n",
       "        vertical-align: top;\n",
       "    }\n",
       "\n",
       "    .dataframe thead th {\n",
       "        text-align: right;\n",
       "    }\n",
       "</style>\n",
       "<table border=\"1\" class=\"dataframe\">\n",
       "  <thead>\n",
       "    <tr style=\"text-align: right;\">\n",
       "      <th></th>\n",
       "      <th>MC for Geome</th>\n",
       "      <th>Err for Geome</th>\n",
       "      <th>MC for Arith</th>\n",
       "      <th>Err for Arith</th>\n",
       "    </tr>\n",
       "    <tr>\n",
       "      <th>Num of Ts</th>\n",
       "      <th></th>\n",
       "      <th></th>\n",
       "      <th></th>\n",
       "      <th></th>\n",
       "    </tr>\n",
       "  </thead>\n",
       "  <tbody>\n",
       "    <tr>\n",
       "      <th>10</th>\n",
       "      <td>6.121766</td>\n",
       "      <td>0.089118</td>\n",
       "      <td>6.257293</td>\n",
       "      <td>0.091937</td>\n",
       "    </tr>\n",
       "    <tr>\n",
       "      <th>100</th>\n",
       "      <td>5.618902</td>\n",
       "      <td>0.081645</td>\n",
       "      <td>5.989416</td>\n",
       "      <td>0.086476</td>\n",
       "    </tr>\n",
       "    <tr>\n",
       "      <th>1000</th>\n",
       "      <td>5.546679</td>\n",
       "      <td>0.081061</td>\n",
       "      <td>5.667547</td>\n",
       "      <td>0.082241</td>\n",
       "    </tr>\n",
       "    <tr>\n",
       "      <th>10000</th>\n",
       "      <td>5.555005</td>\n",
       "      <td>0.081055</td>\n",
       "      <td>5.849880</td>\n",
       "      <td>0.083349</td>\n",
       "    </tr>\n",
       "  </tbody>\n",
       "</table>\n",
       "</div>"
      ],
      "text/plain": [
       "           MC for Geome  Err for Geome  MC for Arith  Err for Arith\n",
       "Num of Ts                                                          \n",
       "10             6.121766       0.089118      6.257293       0.091937\n",
       "100            5.618902       0.081645      5.989416       0.086476\n",
       "1000           5.546679       0.081061      5.667547       0.082241\n",
       "10000          5.555005       0.081055      5.849880       0.083349"
      ]
     },
     "execution_count": 40,
     "metadata": {},
     "output_type": "execute_result"
    }
   ],
   "source": [
    "# compute the Asian option prices for different number of time steps\n",
    "call_values = []\n",
    "for ts in np.logspace(1,4,4).astype(int):\n",
    "    call_values.append((ts,\n",
    "                        *mc_wur_asian_fixed_strike_geome_call_value(S0,K,T,r,σ,Ts=ts,N=N,ret_err=True),\n",
    "                        *mc_wur_asian_fixed_strike_arith_call_value(S0,K,T,r,σ,Ts=ts,N=N,ret_err=True),\n",
    "                      ))\n",
    "    \n",
    "call_values_df = pd.DataFrame(call_values,columns=['Num of Ts',\n",
    "                                                   'MC for Geome','Err for Geome',\n",
    "                                                   'MC for Arith','Err for Arith'])\n",
    "call_values_df.set_index('Num of Ts',inplace=True)\n",
    "call_values_df"
   ]
  },
  {
   "cell_type": "code",
   "execution_count": 41,
   "metadata": {},
   "outputs": [
    {
     "data": {
      "image/png": "[encoded data removed]",
      "text/plain": [
       "<Figure size 432x288 with 1 Axes>"
      ]
     },
     "metadata": {
      "needs_background": "light"
     },
     "output_type": "display_data"
    }
   ],
   "source": [
    "call_values_df.iloc[:,[0,2]].plot.line(logx=True)\n",
    "plt.ylabel('Call Prices');"
   ]
  },
  {
   "cell_type": "markdown",
   "metadata": {},
   "source": [
    "Notes\n",
    "- arithmetic fixed strike Asians are always more (or equally) expensive as their geometric counter-parts\n",
    "- the comparable Europeans are still more expensive than both types of Asians\n",
    "(the intuition here is that since the payoff of an Asian option is based on an average price of the underlying asset, it is less volatile than the asset price itself, and the option on a lower volatility asset is worth less)\n",
    "- the price of Asian call options decreases when number of time steps (Ts) increases\n",
    "(the intuition here is that the pricing fluctuations are averaged more frequently (sampling frequency increases), hence the volatility is reduced)"
   ]
  },
  {
   "cell_type": "markdown",
   "metadata": {},
   "source": [
    "###### THE END"
   ]
  }
 ],
 "metadata": {
  "kernelspec": {
   "display_name": "Python 3",
   "language": "python",
   "name": "python3"
  },
  "language_info": {
   "codemirror_mode": {
    "name": "ipython",
    "version": 3
   },
   "file_extension": ".py",
   "mimetype": "text/x-python",
   "name": "python",
   "nbconvert_exporter": "python",
   "pygments_lexer": "ipython3",
   "version": "3.7.6"
  }
 },
 "nbformat": 4,
 "nbformat_minor": 4
}
